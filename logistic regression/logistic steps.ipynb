{
 "cells": [
  {
   "cell_type": "markdown",
   "id": "a1dfec01",
   "metadata": {},
   "source": [
    "# classification steps\n",
    "\n",
    "- 1. Create the dataframe properly -->pd.read_csv(),pd.read_excel()\n",
    "\n",
    "- 2. Preprocessing the data:\n",
    "                       a.Feature Selection -->domain knowledge -->drop()\n",
    "                       b.Handling the missing values -->isnull().sum(),fillna()\n",
    "        \n",
    "- 3. Converting the categorical data into numerical --> map(),get_dummies(),LabelEncoder\n",
    "\n",
    "- 4. CreateXandY-->X-ind var,Y=dep var -->X=df.values[:,:-1],Y=df.values[:, -1]\n",
    "\n",
    "- 5. Scale the data[Optional]-->MinMaxScaler(),StandardScaler()\n",
    "\n",
    "- 6. Splitting the data into Train and Test(validation)-->train_test_split()\n",
    "\n",
    "- 7. Build the model:\n",
    "                      a.Create the model -->obj=AlgoName()\n",
    "                      b.Train the model -->obj.fit(X_train,Y_train)\n",
    "                      c.Predict using the model -->Y_pred=obj.predict(X_test)\n",
    "        \n",
    "- 8. Evaluate the model:\n",
    "        a.confusion_matrix(Y_test,Y_pred)\n",
    "        b.accuracy_score(Y_test,Y_pred)\n",
    "        c.classification_report(Y_test,Y_pred)\n",
    "        \n",
    "- 9. Tuning the model:\n",
    "        a.Feature Selection\n",
    "        b.Dedicated approach -->Adjusting the threshold\n",
    "        \n",
    "        \n",
    "----------------------------------------------------\n",
    "Model is ready -- classifier -->adult_data.csv\n",
    "Follow the steps on the adult_test.csv:\n",
    "- 1. Createadataframe properly -->adult_test\n",
    "\n",
    "- 2. Preprocessing the data:\n",
    "                          a.Feature selection -->eliminate fnlwgt,education\n",
    "                          b.Handling the missing values\n",
    "                          \n",
    "- 3. Converting categorical values to numerical\n",
    "\n",
    "- 4. Create X_test_new and Y_test_new\n",
    "\n",
    "- 5. Scaling the data -->X_test_new -->X_test_new-scaler.transform(X_test_new),fit()not to be implemented\n",
    "\n",
    "- 6. Y_pred_prob=classifier.predict_proba(X_test_new)\n",
    "\n",
    "- 7. Use the if-else code with threshold=0.46(optimum)and generate Y_pred_new\n",
    "\n",
    "- 3. Evaluating the model:\n",
    "        a.confusion_matrix(Y_test_new,Y_pred_new)\n",
    "        b.accuracy_score(Y_test_new,Y_pred_new)\n",
    "        c.classification_report(Y_test_new,Y_pred_new)|"
   ]
  },
  {
   "cell_type": "code",
   "execution_count": null,
   "id": "8ccd5617-31ea-46c0-8d5e-b6040c673a47",
   "metadata": {},
   "outputs": [],
   "source": []
  },
  {
   "cell_type": "code",
   "execution_count": null,
   "id": "2935ecf0-615c-4d5e-b66b-978bec88e182",
   "metadata": {},
   "outputs": [],
   "source": []
  }
 ],
 "metadata": {
  "kernelspec": {
   "display_name": "Python 3 (ipykernel)",
   "language": "python",
   "name": "python3"
  },
  "language_info": {
   "codemirror_mode": {
    "name": "ipython",
    "version": 3
   },
   "file_extension": ".py",
   "mimetype": "text/x-python",
   "name": "python",
   "nbconvert_exporter": "python",
   "pygments_lexer": "ipython3",
   "version": "3.8.8"
  }
 },
 "nbformat": 4,
 "nbformat_minor": 5
}
