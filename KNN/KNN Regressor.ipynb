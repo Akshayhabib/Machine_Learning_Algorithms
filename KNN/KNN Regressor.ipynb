{
 "cells": [
  {
   "cell_type": "code",
   "execution_count": 1,
   "id": "e8d19070",
   "metadata": {},
   "outputs": [],
   "source": [
    "import numpy as np\n",
    "import pandas as pd"
   ]
  },
  {
   "cell_type": "code",
   "execution_count": 2,
   "id": "4df2a33e",
   "metadata": {},
   "outputs": [
    {
     "data": {
      "text/html": [
       "<div>\n",
       "<style scoped>\n",
       "    .dataframe tbody tr th:only-of-type {\n",
       "        vertical-align: middle;\n",
       "    }\n",
       "\n",
       "    .dataframe tbody tr th {\n",
       "        vertical-align: top;\n",
       "    }\n",
       "\n",
       "    .dataframe thead th {\n",
       "        text-align: right;\n",
       "    }\n",
       "</style>\n",
       "<table border=\"1\" class=\"dataframe\">\n",
       "  <thead>\n",
       "    <tr style=\"text-align: right;\">\n",
       "      <th></th>\n",
       "      <th>TV</th>\n",
       "      <th>Radio</th>\n",
       "      <th>Newspaper</th>\n",
       "      <th>Sales</th>\n",
       "    </tr>\n",
       "  </thead>\n",
       "  <tbody>\n",
       "    <tr>\n",
       "      <th>0</th>\n",
       "      <td>230.1</td>\n",
       "      <td>37.8</td>\n",
       "      <td>69.2</td>\n",
       "      <td>22.1</td>\n",
       "    </tr>\n",
       "    <tr>\n",
       "      <th>1</th>\n",
       "      <td>44.5</td>\n",
       "      <td>39.3</td>\n",
       "      <td>45.1</td>\n",
       "      <td>10.4</td>\n",
       "    </tr>\n",
       "    <tr>\n",
       "      <th>2</th>\n",
       "      <td>17.2</td>\n",
       "      <td>45.9</td>\n",
       "      <td>69.3</td>\n",
       "      <td>9.3</td>\n",
       "    </tr>\n",
       "    <tr>\n",
       "      <th>3</th>\n",
       "      <td>151.5</td>\n",
       "      <td>41.3</td>\n",
       "      <td>58.5</td>\n",
       "      <td>18.5</td>\n",
       "    </tr>\n",
       "    <tr>\n",
       "      <th>4</th>\n",
       "      <td>180.8</td>\n",
       "      <td>10.8</td>\n",
       "      <td>58.4</td>\n",
       "      <td>12.9</td>\n",
       "    </tr>\n",
       "  </tbody>\n",
       "</table>\n",
       "</div>"
      ],
      "text/plain": [
       "      TV  Radio  Newspaper  Sales\n",
       "0  230.1   37.8       69.2   22.1\n",
       "1   44.5   39.3       45.1   10.4\n",
       "2   17.2   45.9       69.3    9.3\n",
       "3  151.5   41.3       58.5   18.5\n",
       "4  180.8   10.8       58.4   12.9"
      ]
     },
     "execution_count": 2,
     "metadata": {},
     "output_type": "execute_result"
    }
   ],
   "source": [
    "df=pd.read_csv('https://raw.githubusercontent.com/reisanar/datasets/master/Advertising.csv')\n",
    "df.head()"
   ]
  },
  {
   "cell_type": "code",
   "execution_count": 3,
   "id": "1c26014e",
   "metadata": {},
   "outputs": [
    {
     "data": {
      "text/plain": [
       "TV           0\n",
       "Radio        0\n",
       "Newspaper    0\n",
       "Sales        0\n",
       "dtype: int64"
      ]
     },
     "execution_count": 3,
     "metadata": {},
     "output_type": "execute_result"
    }
   ],
   "source": [
    "df.isnull().sum()"
   ]
  },
  {
   "cell_type": "code",
   "execution_count": 4,
   "id": "0f45452a",
   "metadata": {},
   "outputs": [],
   "source": [
    "#create x and y\n",
    "X=df.iloc[:,0:-1]\n",
    "#X=data[['TV', 'Radio', 'Newspaper']]\n",
    "Y=df['Sales']"
   ]
  },
  {
   "cell_type": "code",
   "execution_count": 5,
   "id": "7c81bab7",
   "metadata": {},
   "outputs": [],
   "source": [
    "from sklearn.model_selection import train_test_split\n",
    "\n",
    "X_train, X_test, Y_train, Y_test = train_test_split(\n",
    "    X, Y, test_size=0.2, random_state=10)"
   ]
  },
  {
   "cell_type": "code",
   "execution_count": 8,
   "id": "00774c9b",
   "metadata": {},
   "outputs": [
    {
     "data": {
      "text/plain": [
       "12.649110640673518"
      ]
     },
     "execution_count": 8,
     "metadata": {},
     "output_type": "execute_result"
    }
   ],
   "source": [
    "(np.sqrt(len(X_train)))"
   ]
  },
  {
   "cell_type": "code",
   "execution_count": 19,
   "id": "e0418a9c",
   "metadata": {},
   "outputs": [],
   "source": [
    "#predicting using the KNeighbors_classifer\n",
    "from sklearn.neighbors import KNeighborsRegressor\n",
    "\n",
    "model_KNN=KNeighborsRegressor(n_neighbors=3,\n",
    "                               metric='euclidean')\n",
    "#euclidean,manhattan,minkowski\n",
    "#fit the model on the data and predict the values\n",
    "model_KNN.fit(X_train,Y_train)\n",
    "\n",
    "#prediction\n",
    "Y_pred=model_KNN.predict(X_test)\n",
    "#print(list(zip(Y_test,Y_pred)))"
   ]
  },
  {
   "cell_type": "code",
   "execution_count": 20,
   "id": "6079cbeb",
   "metadata": {},
   "outputs": [
    {
     "data": {
      "text/plain": [
       "array([16.76666667,  8.86666667, 18.7       , 23.8       , 21.7       ,\n",
       "       13.46666667, 15.83333333, 20.93333333, 21.7       ,  8.86666667,\n",
       "       24.26666667,  8.83333333,  8.86666667, 20.1       , 21.23333333,\n",
       "       12.96666667, 19.26666667,  5.63333333, 19.33333333, 20.93333333,\n",
       "       16.2       ,  5.63333333, 24.06666667, 15.96666667, 14.66666667,\n",
       "        6.53333333, 10.16666667,  9.8       , 19.93333333,  7.36666667,\n",
       "       12.9       , 18.93333333,  7.16666667,  6.13333333, 16.2       ,\n",
       "       13.6       ,  9.66666667, 18.        , 10.53333333, 12.4       ])"
      ]
     },
     "execution_count": 20,
     "metadata": {},
     "output_type": "execute_result"
    }
   ],
   "source": [
    "Y_pred"
   ]
  },
  {
   "cell_type": "code",
   "execution_count": 21,
   "id": "ce2ce7c6",
   "metadata": {},
   "outputs": [
    {
     "name": "stdout",
     "output_type": "stream",
     "text": [
      "R-squared value : 0.9411330460488659\n",
      "RMSE VALUE : 1.5478569414229182\n",
      "Adjusted-R-squared value : 0.9402320212434915\n"
     ]
    },
    {
     "data": {
      "text/plain": [
       "'\\nusing linear regression:\\nRsquare=0.8348\\nRMSE=2.59\\n\\n'"
      ]
     },
     "execution_count": 21,
     "metadata": {},
     "output_type": "execute_result"
    }
   ],
   "source": [
    "from sklearn.metrics import  r2_score,mean_squared_error\n",
    "\n",
    "r2=r2_score(Y_test,Y_pred)\n",
    "print(\"R-squared value :\", r2)\n",
    "\n",
    "rmse=np.sqrt(mean_squared_error(Y_test,Y_pred))\n",
    "print(\"RMSE VALUE :\",rmse)\n",
    "\n",
    "adjusted_r_2=1-(1-r2)*(len(Y)-1)/(len(Y)-X.shape[1]-1)\n",
    "print(\"Adjusted-R-squared value :\",adjusted_r_2)\n",
    "\n",
    "\n",
    "\"\"\"\n",
    "using linear regression:\n",
    "Rsquare=0.8348\n",
    "RMSE=2.59\n",
    "\"\"\"\n",
    "\n",
    "#KNN Performs better on this data"
   ]
  },
  {
   "cell_type": "code",
   "execution_count": 23,
   "id": "95bbffa7",
   "metadata": {},
   "outputs": [
    {
     "name": "stdout",
     "output_type": "stream",
     "text": [
      "R_square value is [0.947505618529669] for K-Value: 1\n",
      "R_square value is [0.9293159406535845] for K-Value: 2\n",
      "R_square value is [0.9411330460488659] for K-Value: 3\n",
      "R_square value is [0.9394530965066451] for K-Value: 4\n",
      "R_square value is [0.9284857726620428] for K-Value: 5\n",
      "R_square value is [0.9171381300471962] for K-Value: 6\n",
      "R_square value is [0.8986986579101233] for K-Value: 7\n",
      "R_square value is [0.8941504138170911] for K-Value: 8\n",
      "R_square value is [0.8798578264845459] for K-Value: 9\n",
      "R_square value is [0.8608042002876257] for K-Value: 10\n",
      "R_square value is [0.8470466691144289] for K-Value: 11\n",
      "R_square value is [0.8483613805522731] for K-Value: 12\n",
      "R_square value is [0.8510763597780449] for K-Value: 13\n",
      "R_square value is [0.8490397921317565] for K-Value: 14\n"
     ]
    }
   ],
   "source": [
    "from sklearn.metrics import r2_score\n",
    "my_dict={}\n",
    "for K in range(1,15):\n",
    "    model_KNN=KNeighborsRegressor(n_neighbors=K,metric=\"euclidean\")\n",
    "    model_KNN.fit(X_train,Y_train)\n",
    "    Y_pred=model_KNN.predict(X_test)\n",
    "    print(\"R_square value is\",[r2_score(Y_test,Y_pred)],\"for K-Value:\",K)\n",
    "    my_dict[K]=r2_score(Y_test,Y_pred)"
   ]
  },
  {
   "cell_type": "code",
   "execution_count": 18,
   "id": "563be046",
   "metadata": {},
   "outputs": [
    {
     "name": "stdout",
     "output_type": "stream",
     "text": [
      "1 : 0.947505618529669\n"
     ]
    }
   ],
   "source": [
    "for k in my_dict:\n",
    "    if my_dict[k]==max(my_dict.values()):\n",
    "        print(k,\":\",my_dict[k])"
   ]
  },
  {
   "cell_type": "code",
   "execution_count": null,
   "id": "b26a99f3",
   "metadata": {},
   "outputs": [],
   "source": []
  }
 ],
 "metadata": {
  "kernelspec": {
   "display_name": "Python 3 (ipykernel)",
   "language": "python",
   "name": "python3"
  },
  "language_info": {
   "codemirror_mode": {
    "name": "ipython",
    "version": 3
   },
   "file_extension": ".py",
   "mimetype": "text/x-python",
   "name": "python",
   "nbconvert_exporter": "python",
   "pygments_lexer": "ipython3",
   "version": "3.8.8"
  }
 },
 "nbformat": 4,
 "nbformat_minor": 5
}
